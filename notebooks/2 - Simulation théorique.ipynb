{
 "cells": [
  {
   "cell_type": "markdown",
   "metadata": {},
   "source": [
    "# 2 - Simulation théorique"
   ]
  },
  {
   "cell_type": "markdown",
   "metadata": {},
   "source": [
    "## Importation des modules"
   ]
  },
  {
   "cell_type": "code",
   "execution_count": 1,
   "metadata": {},
   "outputs": [],
   "source": [
    "# Rechargement des imports\n",
    "%load_ext autoreload\n",
    "%autoreload 2\n",
    "\n",
    "# Importation des modules\n",
    "# Module de base\n",
    "# Modules de base\n",
    "import numpy as np\n",
    "import pandas as pd\n",
    "import yaml\n",
    "import sys\n",
    "\n",
    "sys.path.append(\"../../\")\n",
    "sys.path.append(\"..\")\n",
    "\n",
    "# Chargement du fichier de configurations\n",
    "with open(\"../config.yaml\") as file:\n",
    "    config = yaml.safe_load(file)\n",
    "\n",
    "# Modules ad hoc\n",
    "from bozio_wasmer_simulations.simulation.theoretical.base import TheoreticalSimulation\n",
    "from bozio_wasmer_simulations.simulation.theoretical.taux_captation_marginal import (\n",
    "    CaptationMarginaleSimulator,\n",
    ")\n",
    "from bozio_wasmer_simulations.simulation.theoretical.ppv import PPVReintegrationSimulator"
   ]
  },
  {
   "cell_type": "markdown",
   "metadata": {},
   "source": [
    "## Simulation des profils des cotisations et allègements existants"
   ]
  },
  {
   "cell_type": "code",
   "execution_count": null,
   "metadata": {},
   "outputs": [],
   "source": [
    "# Simulation des cotisations et allègements\n",
    "# Initialisation\n",
    "theoretical_simulation = TheoreticalSimulation()\n",
    "# Itération sur les années de config\n",
    "data_core_simulation = theoretical_simulation.core_simulation(\n",
    "    year=config[\"SIMULATIONS\"][\"CORE\"][\"YEAR_SIMUL\"],\n",
    "    simulation_step_smic=config[\"SIMULATIONS\"][\"THEORETICAL\"][\"STEP_SMIC\"],\n",
    "    simulation_max_smic=config[\"SIMULATIONS\"][\"THEORETICAL\"][\"MAX_SMIC\"],\n",
    ")\n",
    "\n",
    "data_core_simulation.head()"
   ]
  },
  {
   "cell_type": "code",
   "execution_count": null,
   "metadata": {},
   "outputs": [],
   "source": [
    "# Graphique\n",
    "theoretical_simulation.plot(\n",
    "    data=data_core_simulation,\n",
    "    x=\"assiette_allegement_prop_smic\",\n",
    "    hue=[\n",
    "        \"allegements_prop_assiette\",\n",
    "        \"allegement_general_prop_assiette\",\n",
    "        \"allegement_cotisation_allocations_familiales_prop_assiette\",\n",
    "        \"allegement_cotisation_maladie_prop_assiette\",\n",
    "    ],\n",
    "    x_label=\"Salaire (en multiples du SMIC)\",\n",
    "    y_label=\"Taux\",\n",
    "    hue_label=\"Allègements\",\n",
    "    labels={\n",
    "        \"allegements_prop_assiette\": \"Total\",\n",
    "        \"allegement_general_prop_assiette\": \"Allègement général\",\n",
    "        \"allegement_cotisation_allocations_familiales_prop_assiette\": \"Allègement cotisations familiales\",\n",
    "        \"allegement_cotisation_maladie_prop_assiette\": \"Allègement cotisations maladie\",\n",
    "    },\n",
    "    export_key=None,\n",
    "    show=True,\n",
    ")"
   ]
  },
  {
   "cell_type": "markdown",
   "metadata": {},
   "source": [
    "## Simulation des profils des réformes d'allègements généraux"
   ]
  },
  {
   "cell_type": "code",
   "execution_count": null,
   "metadata": {},
   "outputs": [],
   "source": [
    "# Simulation des réformes des allègements\n",
    "# Initialisation\n",
    "reform_simulation = TheoreticalSimulation(\n",
    "    log_filename=\"../logs/theoretical_reform_simulation.log\"\n",
    ")\n",
    "# Itération des réformes\n",
    "data_reform_simulation = reform_simulation.iterate_reform_simulations(\n",
    "    scenarios=config[\"SCENARIOS\"],\n",
    "    year=config[\"SIMULATIONS\"][\"CORE\"][\"YEAR_SIMUL\"],\n",
    "    simulation_step_smic=config[\"SIMULATIONS\"][\"THEORETICAL\"][\"STEP_SMIC\"],\n",
    "    simulation_max_smic=config[\"SIMULATIONS\"][\"THEORETICAL\"][\"MAX_SMIC\"],\n",
    ")\n",
    "\n",
    "data_reform_simulation.head()"
   ]
  },
  {
   "cell_type": "code",
   "execution_count": null,
   "metadata": {},
   "outputs": [],
   "source": [
    "# Graphique\n",
    "reform_simulation.plot(\n",
    "    data=data_reform_simulation,\n",
    "    x=\"assiette_allegement_prop_smic\",\n",
    "    hue=[\"new_allegement_central_prop_assiette\", \"new_allegement_dss_prop_assiette\"],\n",
    "    x_label=\"Salaire (en multiples du SMIC)\",\n",
    "    y_label=\"Taux\",\n",
    "    hue_label=\"Allègements\",\n",
    "    labels={\n",
    "        \"new_allegement_central_prop_assiette\": \"Scénario central\",\n",
    "        \"new_allegement_dss_prop_assiette\": \"Scénario DSS\",\n",
    "    },\n",
    "    export_key=None,\n",
    "    show=True,\n",
    ")"
   ]
  },
  {
   "cell_type": "markdown",
   "metadata": {},
   "source": [
    "## Simulation des taux de captation marginaux associés à chaque scénario"
   ]
  },
  {
   "cell_type": "markdown",
   "metadata": {},
   "source": [
    "### Construction des taux de captation marginaux pour différents niveaux de rémunération"
   ]
  },
  {
   "cell_type": "code",
   "execution_count": null,
   "metadata": {},
   "outputs": [],
   "source": [
    "# Initialisation du simulateur\n",
    "captation_simulator = CaptationMarginaleSimulator(project=config['CASD']['PROJET'])\n",
    "# Itération des simulations\n",
    "data_captation, data_secret_stat = captation_simulator.build(\n",
    "    year_data=config[\"SIMULATIONS\"][\"CORE\"][\"YEAR_DATA\"],\n",
    "    year_simul=config[\"SIMULATIONS\"][\"CORE\"][\"YEAR_SIMUL\"],\n",
    "    simulation_step_smic=config[\"SIMULATIONS\"][\"THEORETICAL\"][\"STEP_SMIC\"],\n",
    "    simulation_max_smic=config[\"SIMULATIONS\"][\"THEORETICAL\"][\"MAX_SMIC\"],\n",
    "    scenarios=config[\"SCENARIOS\"],\n",
    "    data=None,\n",
    ")\n",
    "# Ajout de variables spécifiques au scénario \"jeunes\"\n",
    "# Création d'une éligibilité au dispositif \"jeunes\"\n",
    "captation_simulator.data_dads[\"ind_jeunes\"] = np.where(\n",
    "    (captation_simulator.data_dads[\"age\"] < 26)\n",
    "    & (captation_simulator.data_dads[\"salaire_de_base_prop_smic\"] < 1.2),\n",
    "    \"jeunes\",\n",
    "    \"vieux\",\n",
    ")\n",
    "# Itération de la construction des poids sur chacun des populations dans le cas du scénario \"jeunes\"\n",
    "list_var_groupby = [\"salaire_de_base_prop_smic\", \"ind_jeunes\"]\n",
    "data_stat_des_jv, data_secret_stat_jv = captation_simulator.build_weights_simulation(\n",
    "    data_simul=data_captation,\n",
    "    year=config[\"SIMULATIONS\"][\"CORE\"][\"YEAR_SIMUL\"],\n",
    "    simulation_max_smic=config[\"SIMULATIONS\"][\"THEORETICAL\"][\"MAX_SMIC\"],\n",
    "    list_var_groupby=list_var_groupby,\n",
    ")\n",
    "data_stat_des_jv = data_stat_des_jv.unstack()\n",
    "data_stat_des_jv.columns = [\n",
    "    \"_\".join(idx) for idx in data_stat_des_jv.columns.to_flat_index()\n",
    "]\n",
    "# Concaténation des deux jeux de données\n",
    "data_captation = pd.concat(\n",
    "    [data_captation.set_index(\"salaire_de_base_prop_smic\"), data_stat_des_jv],\n",
    "    axis=1,\n",
    "    join=\"inner\",\n",
    ").reset_index()\n",
    "# Concaténation des jeux de données de vérification du secret statistique\n",
    "data_secret_stat = pd.concat(\n",
    "    [data_secret_stat.set_index(\"salaire_de_base_prop_smic\"), data_secret_stat_jv],\n",
    "    axis=1,\n",
    "    join='outer'\n",
    ")\n",
    "\n",
    "data_captation.head()"
   ]
  },
  {
   "cell_type": "code",
   "execution_count": null,
   "metadata": {},
   "outputs": [],
   "source": [
    "# Graphique\n",
    "captation_simulator.plot(\n",
    "    data=data_captation,\n",
    "    x=\"salaire_de_base_prop_smic\",\n",
    "    hue=[\"taux_captation_marginal\", \"taux_captation_marginal_central\"],\n",
    "    x_label=\"Salaire (en multiples du SMIC)\",\n",
    "    y_label=\"Taux\",\n",
    "    hue_label=\"Allègements\",\n",
    "    labels={\n",
    "        \"taux_captation_marginal\": \"Situation actuelle\",\n",
    "        \"taux_captation_marginal\": \"Scénario central\",\n",
    "    },\n",
    "    export_key=None,\n",
    "    show=True,\n",
    ")"
   ]
  },
  {
   "cell_type": "markdown",
   "metadata": {},
   "source": [
    "### Construction d'indicateurs synthétiques"
   ]
  },
  {
   "cell_type": "markdown",
   "metadata": {},
   "source": [
    "#### Avec une élasticité de 0.5"
   ]
  },
  {
   "cell_type": "code",
   "execution_count": null,
   "metadata": {},
   "outputs": [],
   "source": [
    "# Construction d'un indicateur synthétique\n",
    "data_res_05 = captation_simulator.build_taux_synthetique(\n",
    "    data=data_captation,\n",
    "    elasticite=config[\"SIMULATIONS\"][\"THEORETICAL\"][\"ELASTICITE_TAUX_MARGINAL\"],\n",
    "    names=list(config[\"SCENARIOS\"].keys()),\n",
    "    weights=[\"eqtp_sum\", \"salaire_de_base_sum\"],\n",
    ")\n",
    "# Correction du scénario jeunes\n",
    "for weight in [\"eqtp_sum\", \"salaire_de_base_sum\"]:\n",
    "    data_res_05.loc[weight, \"JEUNES\"] = (\n",
    "        0.5\n",
    "        * (\n",
    "            data_captation[f\"taux_captation_marginal_jeunes\"]\n",
    "            / data_captation[\"taux_captation_marginal\"]\n",
    "            - 1\n",
    "        )\n",
    "        .multiply(other=data_captation[f\"{weight}_vieux\"])\n",
    "        .sum()\n",
    "        / data_captation[weight].sum()\n",
    "    )\n",
    "data_res_05.head()"
   ]
  },
  {
   "cell_type": "markdown",
   "metadata": {},
   "source": [
    "#### Avec une élasticité de 0.25"
   ]
  },
  {
   "cell_type": "code",
   "execution_count": null,
   "metadata": {},
   "outputs": [],
   "source": [
    "# Construction d'un indicateur synthétique\n",
    "data_res_025 = captation_simulator.build_taux_synthetique(\n",
    "    data=data_captation,\n",
    "    elasticite=0.25,\n",
    "    names=list(config[\"SCENARIOS\"].keys()),\n",
    "    weights=[\"eqtp_sum\", \"salaire_de_base_sum\"],\n",
    ")\n",
    "# Correction du scénario jeunes\n",
    "for weight in [\"eqtp_sum\", \"salaire_de_base_sum\"]:\n",
    "    data_res_025.loc[weight, \"JEUNES\"] = (\n",
    "        0.25\n",
    "        * (\n",
    "            data_captation[f\"taux_captation_marginal_jeunes\"]\n",
    "            / data_captation[\"taux_captation_marginal\"]\n",
    "            - 1\n",
    "        )\n",
    "        .multiply(other=data_captation[f\"{weight}_vieux\"])\n",
    "        .sum()\n",
    "        / data_captation[weight].sum()\n",
    "    )\n",
    "data_res_025.head()"
   ]
  },
  {
   "cell_type": "markdown",
   "metadata": {},
   "source": [
    "## Réintégration de la PPV à l'assiette des allègements"
   ]
  },
  {
   "cell_type": "markdown",
   "metadata": {},
   "source": [
    "### Construction des taux de cotisation implicites pour chacun des scénarios dans le cas d'une PPV éxonérée et réintégrée à l'assiette des allègements généraux"
   ]
  },
  {
   "cell_type": "code",
   "execution_count": null,
   "metadata": {},
   "outputs": [],
   "source": [
    "# Initialisation de la classe\n",
    "ppv_simulator = PPVReintegrationSimulator()\n",
    "# Concaténation des résultats des simulations exonérée et réintégrée\n",
    "data_ppv = pd.concat(\n",
    "    [\n",
    "        ppv_simulator.build(\n",
    "            scenarios=config[\"SCENARIOS\"],\n",
    "            year=config[\"SIMULATIONS\"][\"CORE\"][\"YEAR_SIMUL\"],\n",
    "            simulation_step_smic=config[\"SIMULATIONS\"][\"THEORETICAL\"][\"STEP_SMIC\"],\n",
    "            simulation_max_smic=config[\"SIMULATIONS\"][\"THEORETICAL\"][\"MAX_SMIC\"],\n",
    "            simulation_case=\"exoneree\",\n",
    "            ppv=config[\"SIMULATIONS\"][\"THEORETICAL\"][\"PPV\"],\n",
    "        ),\n",
    "        ppv_simulator.build(\n",
    "            scenarios=config[\"SCENARIOS\"],\n",
    "            year=config[\"SIMULATIONS\"][\"CORE\"][\"YEAR_SIMUL\"],\n",
    "            simulation_step_smic=config[\"SIMULATIONS\"][\"THEORETICAL\"][\"STEP_SMIC\"],\n",
    "            simulation_max_smic=config[\"SIMULATIONS\"][\"THEORETICAL\"][\"MAX_SMIC\"],\n",
    "            simulation_case=\"reintegree\",\n",
    "            ppv=config[\"SIMULATIONS\"][\"THEORETICAL\"][\"PPV\"],\n",
    "        ),\n",
    "    ],\n",
    "    axis=1,\n",
    ")\n",
    "\n",
    "data_ppv.head()"
   ]
  },
  {
   "cell_type": "markdown",
   "metadata": {},
   "source": [
    "### Représentation graphique"
   ]
  },
  {
   "cell_type": "code",
   "execution_count": null,
   "metadata": {},
   "outputs": [],
   "source": [
    "# Graphique\n",
    "ppv_simulator.plot(\n",
    "    data=data_ppv,\n",
    "    x=\"exoneree_salaire_de_base\",\n",
    "    hue=[\"exoneree_taux_cotisation_implicite\", \"reintegree_taux_cotisation_implicite\"],\n",
    "    x_label=\"Salaire (en multiples du SMIC)\",\n",
    "    y_label=\"Taux\",\n",
    "    hue_label=\"PPV\",\n",
    "    labels={\n",
    "        \"exoneree_taux_cotisation_implicite\": \"Soustraite de la PPV à l'assiette des allègements\",\n",
    "        \"reintegree_taux_cotisation_implicite\": \"Réintégration de la PPV à l'assiette des allègements\",\n",
    "    },\n",
    "    export_key=None,\n",
    "    show=True,\n",
    ")"
   ]
  }
 ],
 "metadata": {
  "kernelspec": {
   "display_name": "bozio_wasmer",
   "language": "python",
   "name": "python3"
  },
  "language_info": {
   "codemirror_mode": {
    "name": "ipython",
    "version": 3
   },
   "file_extension": ".py",
   "mimetype": "text/x-python",
   "name": "python",
   "nbconvert_exporter": "python",
   "pygments_lexer": "ipython3",
   "version": "3.10.0"
  }
 },
 "nbformat": 4,
 "nbformat_minor": 2
}
