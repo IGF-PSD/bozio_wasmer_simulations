{
 "cells": [
  {
   "cell_type": "markdown",
   "metadata": {},
   "source": [
    "# 0 - Simulations"
   ]
  },
  {
   "cell_type": "markdown",
   "metadata": {},
   "source": [
    "## Importation des modules"
   ]
  },
  {
   "cell_type": "code",
   "execution_count": 1,
   "metadata": {},
   "outputs": [],
   "source": [
    "# Rechargement des imports\n",
    "%load_ext autoreload\n",
    "%autoreload 2\n",
    "\n",
    "# Importation des modules\n",
    "# Modules de base\n",
    "import numpy as np\n",
    "import pandas as pd\n",
    "import yaml\n",
    "import sys\n",
    "\n",
    "sys.path.append(\"..\")\n",
    "\n",
    "# Chargement du fichier de configurations\n",
    "with open(\"../config.yaml\") as file:\n",
    "    config = yaml.safe_load(file)\n",
    "\n",
    "# Modules ad_hoc\n",
    "from bozio_wasmer_simulations.simulation.empirical.base import CoreSimulation, ReformSimulation\n",
    "from bozio_wasmer_simulations.description.datasets import build_data_evol_ct"
   ]
  },
  {
   "cell_type": "markdown",
   "metadata": {},
   "source": [
    "## Simulation des cotisations et allègements"
   ]
  },
  {
   "cell_type": "code",
   "execution_count": null,
   "metadata": {},
   "outputs": [],
   "source": [
    "# Simulation des cotisations et allègements\n",
    "# Initialisation\n",
    "core_simulation = CoreSimulation(project=config['CASD']['PROJET'])\n",
    "# Itération sur les années de config\n",
    "core_simulation.build(\n",
    "    year_data=config[\"SIMULATIONS\"][\"CORE\"][\"YEAR_DATA\"],\n",
    "    year_simul=config[\"SIMULATIONS\"][\"CORE\"][\"YEAR_SIMUL\"],\n",
    ")\n",
    "\n",
    "# Exportation\n",
    "core_simulation.data_dads.to_csv(\n",
    "    f\"../data/data_dads_{config['SIMULATIONS']['CORE']['YEAR_SIMUL']}.csv\", index=False\n",
    ")\n",
    "\n",
    "core_simulation.data_dads.head()"
   ]
  },
  {
   "cell_type": "markdown",
   "metadata": {},
   "source": [
    "## Simulation des réformes"
   ]
  },
  {
   "cell_type": "markdown",
   "metadata": {},
   "source": [
    "### Simulation"
   ]
  },
  {
   "cell_type": "code",
   "execution_count": null,
   "metadata": {},
   "outputs": [],
   "source": [
    "# Simulation de réformes\n",
    "reform_simulation = ReformSimulation()\n",
    "# Itération\n",
    "reform_simulation.build(\n",
    "    scenarios=config[\"SCENARIOS\"],\n",
    "    year=config[\"SIMULATIONS\"][\"CORE\"][\"YEAR_SIMUL\"],\n",
    "    taux_bascule_vm=config[\"BASCULE_VM\"][\"TAUX\"],\n",
    "    data=core_simulation.data_dads,\n",
    ")"
   ]
  },
  {
   "cell_type": "markdown",
   "metadata": {},
   "source": [
    "### Ajout de variables spécifique au scénario jeunes"
   ]
  },
  {
   "cell_type": "code",
   "execution_count": null,
   "metadata": {},
   "outputs": [],
   "source": [
    "# Suppression des variables erronnées sur les jeunes\n",
    "reform_simulation.data_simulation.drop(\n",
    "    [\n",
    "        \"exonerations_et_allegements_jeunes\",\n",
    "        \"salaire_super_brut_jeunes\",\n",
    "        \"salaire_super_brut_vm_jeunes\",\n",
    "    ],\n",
    "    axis=1,\n",
    "    inplace=True,\n",
    ")\n",
    "\n",
    "# Calcul de nouveaux allègements\n",
    "reform_simulation.data_simulation[\"new_allegement_jeunes\"] = np.where(\n",
    "    (reform_simulation.data_simulation[\"age\"] < 26)\n",
    "    & (reform_simulation.data_simulation[\"salaire_brut_smic\"] <= 1.3),\n",
    "    np.maximum(\n",
    "        reform_simulation.data_simulation[\"new_allegement_jeunes\"],\n",
    "        reform_simulation.data_simulation[\"allegements\"],\n",
    "    ),\n",
    "    reform_simulation.data_simulation[\"new_allegement_jeunes\"],\n",
    ")\n",
    "\n",
    "# Déduction des variables d'intérêt\n",
    "# Somme des exonérations et allègements\n",
    "reform_simulation.data_simulation[\"exonerations_et_allegements_jeunes\"] = (\n",
    "    reform_simulation.data_simulation[[\"exonerations\", \"new_allegement_jeunes\"]].sum(\n",
    "        axis=1\n",
    "    )\n",
    ")\n",
    "\n",
    "# Calcul du salaire brut avec la réforme\n",
    "reform_simulation.data_simulation[\"salaire_super_brut_jeunes\"] = (\n",
    "    reform_simulation.data_simulation[\"salaire_super_brut_hors_allegements\"]\n",
    "    - reform_simulation.data_simulation[\"exonerations_et_allegements_jeunes\"]\n",
    "    + reform_simulation.data_simulation[\"prime_partage_valeur_exoneree\"]\n",
    ")\n",
    "reform_simulation.data_simulation[\"salaire_super_brut_vm_jeunes\"] = (\n",
    "    reform_simulation.data_simulation[\"salaire_super_brut_hors_allegements\"]\n",
    "    + reform_simulation.data_simulation[\"versement_transport\"]\n",
    "    * (1 - config[\"BASCULE_VM\"][\"TAUX\"])\n",
    "    - reform_simulation.data_simulation[\"exonerations_et_allegements_jeunes\"]\n",
    "    + reform_simulation.data_simulation[\"prime_partage_valeur_exoneree\"]\n",
    ")\n",
    "\n",
    "# Construction des variables de variation du cout du travail\n",
    "reform_simulation.data_simulation = build_data_evol_ct(\n",
    "    data_source=reform_simulation.data_simulation,\n",
    "    col_new_ct=f\"salaire_super_brut_jeunes\",\n",
    "    col_ct=\"salaire_super_brut\",\n",
    "    to_concat=True,\n",
    ")\n",
    "reform_simulation.data_simulation = build_data_evol_ct(\n",
    "    data_source=reform_simulation.data_simulation,\n",
    "    col_new_ct=f\"salaire_super_brut_vm_jeunes\",\n",
    "    col_ct=\"salaire_super_brut\",\n",
    "    to_concat=True,\n",
    ")\n",
    "\n",
    "\n",
    "# Exportation\n",
    "reform_simulation.data_simulation.to_csv(\n",
    "    f\"../data/data_simulation_{config['SIMULATIONS']['CORE']['YEAR_SIMUL']}.csv\",\n",
    "    index=False,\n",
    ")\n",
    "\n",
    "reform_simulation.data_simulation.head()"
   ]
  }
 ],
 "metadata": {
  "kernelspec": {
   "display_name": "bozio_wasmer",
   "language": "python",
   "name": "python3"
  },
  "language_info": {
   "codemirror_mode": {
    "name": "ipython",
    "version": 3
   },
   "file_extension": ".py",
   "mimetype": "text/x-python",
   "name": "python",
   "nbconvert_exporter": "python",
   "pygments_lexer": "ipython3",
   "version": "3.10.13"
  }
 },
 "nbformat": 4,
 "nbformat_minor": 2
}
