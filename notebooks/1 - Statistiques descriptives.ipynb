{
 "cells": [
  {
   "cell_type": "markdown",
   "metadata": {},
   "source": [
    "# 1 - Statistiques descriptives"
   ]
  },
  {
   "cell_type": "markdown",
   "metadata": {},
   "source": [
    "## Importation des modules"
   ]
  },
  {
   "cell_type": "code",
   "execution_count": null,
   "metadata": {},
   "outputs": [],
   "source": [
    "# Rechargement des imports\n",
    "%load_ext autoreload\n",
    "%autoreload 2\n",
    "\n",
    "# Importation des modules\n",
    "# Modules de base\n",
    "import numpy as np\n",
    "import pandas as pd\n",
    "from tqdm import tqdm\n",
    "import yaml\n",
    "import sys\n",
    "\n",
    "sys.path.append(\"..\")\n",
    "\n",
    "# Importation du module du package\n",
    "from bozio_wasmer_simulations.description.base import DescriptionBuilder\n",
    "\n",
    "# Chargement du fichier de configurations\n",
    "with open(\"../config.yaml\") as file:\n",
    "    config = yaml.safe_load(file)\n",
    "\n",
    "# Création des scénarios à décrire\n",
    "scenarios = {\n",
    "    k: config[\"SCENARIOS\"][k]\n",
    "    for k in config[\"SCENARIOS\"]\n",
    "    if k in config[\"DESCRIPTION\"][\"SCENARIOS\"]\n",
    "}"
   ]
  },
  {
   "cell_type": "markdown",
   "metadata": {},
   "source": [
    "## Importation et preprocessing des données"
   ]
  },
  {
   "cell_type": "code",
   "execution_count": null,
   "metadata": {},
   "outputs": [],
   "source": [
    "# Initialisation d'une instance de la classe\n",
    "description = DescriptionBuilder(project=config['CASD']['PROJET'])\n",
    "# Construction des données\n",
    "description.build(\n",
    "    year=config[\"SIMULATIONS\"][\"CORE\"][\"YEAR_SIMUL\"],\n",
    "    scenarios=scenarios,\n",
    "    name_firm_elasticite=\"firm_0.2\",\n",
    "    elasticite_names=config[\"DESCRIPTION\"][\"ELASTICITES\"],\n",
    ")\n",
    "# Exportation\n",
    "description.data_simulation.to_csv(\n",
    "    f\"../data/data_simulation_{config['SIMULATIONS']['CORE']['YEAR_SIMUL']}_emploi.csv\",\n",
    "    index=False,\n",
    ")\n",
    "\n",
    "description.data_simulation.head()"
   ]
  },
  {
   "cell_type": "markdown",
   "metadata": {},
   "source": [
    "## Statistiques descriptives"
   ]
  },
  {
   "cell_type": "markdown",
   "metadata": {},
   "source": [
    "### Itération de statistiques descriptives"
   ]
  },
  {
   "cell_type": "code",
   "execution_count": null,
   "metadata": {},
   "outputs": [],
   "source": [
    "# Liste des statistiques descriptives à itérer\n",
    "list_dict_stat_des = np.concatenate(\n",
    "    [\n",
    "        [\n",
    "            ## Statistiques descriptives sur le coût du travail\n",
    "            # Répartition des individus par tranche d'évolution du coût du travail et de la masse salariale\n",
    "            {\n",
    "                \"list_var_groupby\": [f\"tranche_evol_ct_{name.lower()}\"],\n",
    "                \"list_var_of_interest\": [\"quotite_de_travail\", \"salaire_super_brut\"],\n",
    "                \"output_folder_path\": name.lower(),\n",
    "                \"export_filename\": \"tranche_evol_ct\",\n",
    "            },\n",
    "            {\n",
    "                \"list_var_groupby\": [f\"tranche_evol_ms_{name.lower()}\"],\n",
    "                \"list_var_of_interest\": [\"quotite_de_travail\", \"salaire_super_brut\"],\n",
    "                \"output_folder_path\": name.lower(),\n",
    "                \"export_filename\": \"tranche_evol_ms\",\n",
    "            },\n",
    "            # Caractérisation des évolutions de coût du travail\n",
    "            {\n",
    "                \"list_var_groupby\": [\"categorie_entreprise\"],\n",
    "                \"list_var_of_interest\": [\n",
    "                    f\"diff_ct_{name.lower()}\",\n",
    "                    \"salaire_super_brut\",\n",
    "                ],\n",
    "                \"output_folder_path\": name.lower(),\n",
    "                \"export_filename\": \"evol_ct_categorie_entreprise\",\n",
    "            },\n",
    "            {\n",
    "                \"list_var_groupby\": [\"a17\"],\n",
    "                \"list_var_of_interest\": [\n",
    "                    f\"diff_ct_{name.lower()}\",\n",
    "                    \"salaire_super_brut\",\n",
    "                ],\n",
    "                \"output_folder_path\": name.lower(),\n",
    "                \"export_filename\": \"evol_ct_a17\",\n",
    "            },\n",
    "            {\n",
    "                \"list_var_groupby\": [\"a17_interim_nettoyage\"],\n",
    "                \"list_var_of_interest\": [\n",
    "                    f\"diff_ct_{name.lower()}\",\n",
    "                    \"salaire_super_brut\",\n",
    "                ],\n",
    "                \"output_folder_path\": name.lower(),\n",
    "                \"export_filename\": \"evol_ct_a17_interim_nettoyage\",\n",
    "            },\n",
    "            # Statistiques descriptives sur les effets emploi\n",
    "            {\n",
    "                \"list_var_groupby\": [\"categorie_entreprise\"],\n",
    "                \"list_var_of_interest\": [\"quotite_de_travail\"]\n",
    "                + [\n",
    "                    f\"effet_emploi_{name_elast}_{name.lower()}\"\n",
    "                    for name_elast in config[\"DESCRIPTION\"][\"ELASTICITES_DESCRIPTION\"]\n",
    "                ],\n",
    "                \"output_folder_path\": name.lower(),\n",
    "                \"export_filename\": \"evol_emploi_categorie_entreprise\",\n",
    "            },\n",
    "            {\n",
    "                \"list_var_groupby\": [\"tranche_salaire_brut_smic\"],\n",
    "                \"list_var_of_interest\": [\"quotite_de_travail\"]\n",
    "                + [\n",
    "                    f\"effet_emploi_{name_elast}_{name.lower()}\"\n",
    "                    for name_elast in config[\"DESCRIPTION\"][\"ELASTICITES_DESCRIPTION\"]\n",
    "                ],\n",
    "                \"output_folder_path\": name.lower(),\n",
    "                \"export_filename\": \"evol_emploi_tranche_smic\",\n",
    "            },\n",
    "            {\n",
    "                \"list_var_groupby\": [\"a17\"],\n",
    "                \"list_var_of_interest\": [\"quotite_de_travail\"]\n",
    "                + [\n",
    "                    f\"effet_emploi_{name_elast}_{name.lower()}\"\n",
    "                    for name_elast in config[\"DESCRIPTION\"][\"ELASTICITES_DESCRIPTION\"]\n",
    "                ],\n",
    "                \"output_folder_path\": name.lower(),\n",
    "                \"export_filename\": \"evol_emploi_a17\",\n",
    "            },\n",
    "            {\n",
    "                \"list_var_groupby\": [\"a17_interim_nettoyage\"],\n",
    "                \"list_var_of_interest\": [\"quotite_de_travail\"]\n",
    "                + [\n",
    "                    f\"effet_emploi_{name_elast}_{name.lower()}\"\n",
    "                    for name_elast in config[\"DESCRIPTION\"][\"ELASTICITES_DESCRIPTION\"]\n",
    "                ],\n",
    "                \"output_folder_path\": name.lower(),\n",
    "                \"export_filename\": \"evol_emploi_a17_interim_nettoyage\",\n",
    "            },\n",
    "        ]\n",
    "        for name in config[\"DESCRIPTION\"][\"SCENARIOS\"]\n",
    "    ]\n",
    ")\n",
    "\n",
    "# Itération des statistiques descriptives\n",
    "for dict_stat_des in tqdm(list_dict_stat_des):\n",
    "    description.stat_des(\n",
    "        year=config[\"SIMULATIONS\"][\"CORE\"][\"YEAR_SIMUL\"],\n",
    "        list_var_groupby=dict_stat_des[\"list_var_groupby\"],\n",
    "        list_var_of_interest=dict_stat_des[\"list_var_of_interest\"],\n",
    "        output_folder_path=dict_stat_des[\"output_folder_path\"],\n",
    "        export_filename=dict_stat_des[\"export_filename\"],\n",
    "    )"
   ]
  },
  {
   "cell_type": "markdown",
   "metadata": {},
   "source": [
    "### Effets de premier tour"
   ]
  },
  {
   "cell_type": "markdown",
   "metadata": {},
   "source": [
    "#### Masse salariale"
   ]
  },
  {
   "cell_type": "code",
   "execution_count": null,
   "metadata": {},
   "outputs": [],
   "source": [
    "# Construction du jeu de données\n",
    "data_1t_ms = description.first_round_effects(\n",
    "    data=description.data_simulation,\n",
    "    variable=\"salaire_brut\",\n",
    "    name_elasticite=\"indiv_0.4-0_firm_0.2\",\n",
    "    scenarios=config[\"DESCRIPTION\"][\"SCENARIOS\"],\n",
    ")\n",
    "data_1t_ms.head()"
   ]
  },
  {
   "cell_type": "markdown",
   "metadata": {},
   "source": [
    "#### Cotisations sociales"
   ]
  },
  {
   "cell_type": "code",
   "execution_count": null,
   "metadata": {},
   "outputs": [],
   "source": [
    "# Construction du jeu de données\n",
    "data_1t_cs = description.first_round_effects(\n",
    "    data=description.data_simulation,\n",
    "    variable=\"cotisations_sociales\",\n",
    "    name_elasticite=\"indiv_0.4-0_firm_0.2\",\n",
    "    scenarios=config[\"DESCRIPTION\"][\"SCENARIOS\"],\n",
    ")\n",
    "data_1t_cs.head()"
   ]
  }
 ],
 "metadata": {
  "kernelspec": {
   "display_name": "bozio_wasmer",
   "language": "python",
   "name": "python3"
  },
  "language_info": {
   "codemirror_mode": {
    "name": "ipython",
    "version": 3
   },
   "file_extension": ".py",
   "mimetype": "text/x-python",
   "name": "python",
   "nbconvert_exporter": "python",
   "pygments_lexer": "ipython3",
   "version": "3.10.13"
  }
 },
 "nbformat": 4,
 "nbformat_minor": 2
}
